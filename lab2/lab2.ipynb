{
 "cells": [
  {
   "cell_type": "code",
   "execution_count": 14,
   "id": "bc1dda08",
   "metadata": {
    "scrolled": false
   },
   "outputs": [
    {
     "name": "stderr",
     "output_type": "stream",
     "text": [
      "No handles with labels found to put in legend.\n"
     ]
    },
    {
     "name": "stdout",
     "output_type": "stream",
     "text": [
      "Average time =  0.0\n"
     ]
    },
    {
     "data": {
      "text/plain": [
       "<matplotlib.legend.Legend at 0x284dbe4ebb0>"
      ]
     },
     "execution_count": 14,
     "metadata": {},
     "output_type": "execute_result"
    },
    {
     "data": {
      "image/png": "[encoded data removed]",
      "text/plain": [
       "<Figure size 432x288 with 1 Axes>"
      ]
     },
     "metadata": {
      "needs_background": "light"
     },
     "output_type": "display_data"
    }
   ],
   "source": [
    "import numpy as np\n",
    "from time import process_time \n",
    "import copy\n",
    "import random\n",
    "import time\n",
    "import matplotlib.pyplot as plt\n",
    "\n",
    "\n",
    "\n",
    "x = [random.randint(0, 100000) for i in range(100000)]\n",
    "#print(x)\n",
    "y=[]\n",
    "\n",
    "k=0\n",
    "\n",
    "T=25\n",
    "\n",
    "for i in range(1,1000):\n",
    "    y=x \n",
    "    start = process_time() \n",
    "    for n in x[:T]:\n",
    "        y.insert(T,T)\n",
    "    stop = process_time()  \n",
    "    k=k+stop-start\n",
    "    \n",
    "\n",
    "\n",
    "    \n",
    "t=k/10 \n",
    "print(\"Average time = \", t)\n",
    "\n",
    "fig, ax = plt.subplots()  # Create a figure and an axes.\n",
    "ax.plot([50,100,500,1000,5000,10000,50000,100000], [0.001640625,0.003609375,0.032265625,0.101546875,0.31625,0.9871875,2.434375,7.15625])  # Plot some data on the (implicit) axes.\n",
    "ax.set_xlabel('Elements')\n",
    "ax.set_ylabel('Time, sec')\n",
    "ax.legend()\n",
    "\n"
   ]
  },
  {
   "cell_type": "code",
   "execution_count": null,
   "id": "7deb0091",
   "metadata": {},
   "outputs": [],
   "source": []
  },
  {
   "cell_type": "code",
   "execution_count": null,
   "id": "b70e9e35",
   "metadata": {},
   "outputs": [],
   "source": []
  }
 ],
 "metadata": {
  "kernelspec": {
   "display_name": "Python 3",
   "language": "python",
   "name": "python3"
  },
  "language_info": {
   "codemirror_mode": {
    "name": "ipython",
    "version": 3
   },
   "file_extension": ".py",
   "mimetype": "text/x-python",
   "name": "python",
   "nbconvert_exporter": "python",
   "pygments_lexer": "ipython3",
   "version": "3.9.5"
  }
 },
 "nbformat": 4,
 "nbformat_minor": 5
}
