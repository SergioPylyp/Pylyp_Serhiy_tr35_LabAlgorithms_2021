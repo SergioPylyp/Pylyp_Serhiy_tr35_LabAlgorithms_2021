{
 "cells": [
  {
   "cell_type": "code",
   "execution_count": 2,
   "id": "bc1dda08",
   "metadata": {
    "scrolled": false
   },
   "outputs": [
    {
     "name": "stdout",
     "output_type": "stream",
     "text": [
      "Average time =  30.00046875\n"
     ]
    }
   ],
   "source": [
    "import numpy as np\n",
    "from time import process_time \n",
    "import copy\n",
    "import random\n",
    "import time\n",
    "\n",
    "\n",
    "\n",
    "\n",
    "x = [random.randint(0, 100000) for i in range(100)]\n",
    "print(x)\n",
    "y=[]\n",
    "y= list(x) \n",
    "k=0\n",
    "\n",
    "T=25\n",
    "\n",
    "for i in range(1,1000):\n",
    "    start = process_time() \n",
    "    for n in x[:T]:\n",
    "        y.insert(T,T)\n",
    "    stop = process_time()  \n",
    "    k=k+stop \n",
    "    \n",
    "\n",
    "\n",
    "    \n",
    "t=k/1000 \n",
    "print(\"Average time = \", t)\n"
   ]
  },
  {
   "cell_type": "code",
   "execution_count": null,
   "id": "7deb0091",
   "metadata": {},
   "outputs": [],
   "source": []
  },
  {
   "cell_type": "code",
   "execution_count": null,
   "id": "b70e9e35",
   "metadata": {},
   "outputs": [],
   "source": []
  }
 ],
 "metadata": {
  "kernelspec": {
   "display_name": "Python 3",
   "language": "python",
   "name": "python3"
  },
  "language_info": {
   "codemirror_mode": {
    "name": "ipython",
    "version": 3
   },
   "file_extension": ".py",
   "mimetype": "text/x-python",
   "name": "python",
   "nbconvert_exporter": "python",
   "pygments_lexer": "ipython3",
   "version": "3.9.5"
  }
 },
 "nbformat": 4,
 "nbformat_minor": 5
}
